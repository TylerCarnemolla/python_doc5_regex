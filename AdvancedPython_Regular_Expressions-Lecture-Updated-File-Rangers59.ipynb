{
 "cells": [
  {
   "cell_type": "markdown",
   "metadata": {},
   "source": [
    "# Regular Expressions"
   ]
  },
  {
   "cell_type": "markdown",
   "metadata": {},
   "source": [
    "# Tasks today:\n",
    "1) <b>Importing</b> <br>\n",
    "2) <b>Using Regular Expressions</b> <br>\n",
    " &nbsp;&nbsp;&nbsp;&nbsp; a) re.compile() <br>\n",
    " &nbsp;&nbsp;&nbsp;&nbsp; b) re.match() <br>\n",
    " &nbsp;&nbsp;&nbsp;&nbsp; c) re.findall() <br>\n",
    " &nbsp;&nbsp;&nbsp;&nbsp; d) re.search() <br>\n",
    "3) <b>Sets</b> <br>\n",
    " &nbsp;&nbsp;&nbsp;&nbsp; a) Integer Ranges <br>\n",
    " &nbsp;&nbsp;&nbsp;&nbsp; b) Character Ranges <br>\n",
    "4) <b>Counting Occurences</b> <br>\n",
    " &nbsp;&nbsp;&nbsp;&nbsp; a) {x} <br>\n",
    " &nbsp;&nbsp;&nbsp;&nbsp; b) {, x} <br>\n",
    " &nbsp;&nbsp;&nbsp;&nbsp; c) {?} <br>\n",
    " &nbsp;&nbsp;&nbsp;&nbsp; d) {*} <br>\n",
    " &nbsp;&nbsp;&nbsp;&nbsp; e) {+} <br>\n",
    "5) <b>In-Class Exercise #1</b> <br>\n",
    "6) <b>Escaping Characters</b> <br>\n",
    "7) <b>Grouping</b> <br>\n",
    "8) <b>In-Class Exercise #2</b> <br>\n",
    "9) <b>Opening a File</b> <br>\n",
    " &nbsp;&nbsp;&nbsp;&nbsp; a) open() <br>\n",
    " &nbsp;&nbsp;&nbsp;&nbsp; b) with open() <br>\n",
    " &nbsp;&nbsp;&nbsp;&nbsp; c) re.match() <br>\n",
    " &nbsp;&nbsp;&nbsp;&nbsp; d) re.search() <br>\n",
    " &nbsp;&nbsp;&nbsp;&nbsp; e) Store the String in a Variable <br>\n",
    "10) <b>Regex Project</b> <br>"
   ]
  },
  {
   "cell_type": "markdown",
   "metadata": {},
   "source": [
    "### Importing <br>\n",
    "<p>Regular Expressions are universal throughout most programming languages... They are generally imported through the module 're'.</p>"
   ]
  },
  {
   "cell_type": "code",
   "execution_count": 42,
   "metadata": {},
   "outputs": [],
   "source": [
    "# import re\n",
    "import re"
   ]
  },
  {
   "cell_type": "markdown",
   "metadata": {},
   "source": [
    "### Using Regular Expressions <br>\n",
    "<p>Regular expressions give us the ability to search for patterns within text, strings, files, etc. They serve several uses, such as; security measures, searching, filtering, pattern recognition, and more...</p>"
   ]
  },
  {
   "cell_type": "markdown",
   "metadata": {},
   "source": [
    "##### re.compile()"
   ]
  },
  {
   "cell_type": "code",
   "execution_count": 43,
   "metadata": {},
   "outputs": [],
   "source": [
    "# using compile, pre determines the string to be used in regular expression methods\n",
    "pattern = re.compile('abcd')\n"
   ]
  },
  {
   "cell_type": "markdown",
   "metadata": {},
   "source": [
    "##### re.match()"
   ]
  },
  {
   "cell_type": "code",
   "execution_count": 44,
   "metadata": {},
   "outputs": [
    {
     "name": "stdout",
     "output_type": "stream",
     "text": [
      "<re.Match object; span=(0, 4), match='abcd'>\n",
      "(0, 4)\n"
     ]
    }
   ],
   "source": [
    "\n",
    "match = pattern.match('abcd123') #you are saying \"look through this string to see if the variable \"pattern\"is in it\"\n",
    "print(match)\n",
    "# Accessing the span of the match\n",
    "print(match.span())"
   ]
  },
  {
   "cell_type": "markdown",
   "metadata": {},
   "source": [
    "##### re.findall()"
   ]
  },
  {
   "cell_type": "code",
   "execution_count": 45,
   "metadata": {},
   "outputs": [
    {
     "name": "stdout",
     "output_type": "stream",
     "text": [
      "['abcd', 'abcd', 'abcd', 'abcd']\n",
      "Help on function findall in module re:\n",
      "\n",
      "findall(pattern, string, flags=0)\n",
      "    Return a list of all non-overlapping matches in the string.\n",
      "    \n",
      "    If one or more capturing groups are present in the pattern, return\n",
      "    a list of groups; this will be a list of tuples if the pattern\n",
      "    has more than one group.\n",
      "    \n",
      "    Empty matches are included in the result.\n",
      "\n"
     ]
    }
   ],
   "source": [
    "finder = pattern.findall('123abcd abcd123 abcd abcdbc acb')\n",
    "print(finder) #this filters out the excess and leaves behind what is in the new phase that mathces the original pattern.\n",
    "help(re.findall)"
   ]
  },
  {
   "cell_type": "markdown",
   "metadata": {},
   "source": [
    "##### re.search()"
   ]
  },
  {
   "cell_type": "code",
   "execution_count": 46,
   "metadata": {},
   "outputs": [
    {
     "name": "stdout",
     "output_type": "stream",
     "text": [
      "<re.Match object; span=(16, 20), match='abcd'>\n",
      "(16, 20)\n",
      "abcd\n",
      "abc \n"
     ]
    }
   ],
   "source": [
    "random_string = \"123 123 234 abc abcd\"\n",
    "\n",
    "search = pattern.search(random_string) #make a variable to run the function. pattern is the key variable being looked for,\n",
    "                                # search is the function, and random_String is the subject\n",
    "\n",
    "print(search)\n",
    "\n",
    "span = search.span() #make a variable FOR the variable 'search' then add a .span() to make a box with the answer in it\n",
    "\n",
    "print(span) #print answer\n",
    "\n",
    "print(random_string [span[0] : span[1]]) #this somehow return the part of the pattern we searched for. we turned \n",
    "            #search ... to span... and now when we do random_string[span[0] : span[1]] we get the distilled down answer.\n",
    "print(random_string[12:16])#this does the same thing as above but makes more sense."
   ]
  },
  {
   "cell_type": "markdown",
   "metadata": {},
   "source": [
    "### Sets <br>\n",
    "<p>The following cells will allow you to use regular expressions to search for certain values within a range such as numbers 1 through 4.</p>"
   ]
  },
  {
   "cell_type": "markdown",
   "metadata": {},
   "source": [
    "##### [a-z] or [A-Z] - any lowercase/uppercase letters from a to z<br/>[^2] - anything that's not 2"
   ]
  },
  {
   "cell_type": "markdown",
   "metadata": {},
   "source": [
    "##### Integer Ranges"
   ]
  },
  {
   "cell_type": "code",
   "execution_count": 81,
   "metadata": {},
   "outputs": [
    {
     "name": "stdout",
     "output_type": "stream",
     "text": [
      "<re.Match object; span=(3, 4), match='8'>\n"
     ]
    }
   ],
   "source": [
    "num_pattern= re.compile('[5-9]')#one set will bring you one answer. [0-5] will bring back 0, but [0-5][6-8]\n",
    "                                        #will bring back 47\n",
    "\n",
    "numbers= num_pattern.search(\"234859\")\n",
    "\n",
    "print(numbers)\n",
    "\n",
    "span = numbers.span()\n",
    "\n",
    "print(span)\n",
    "\n",
    "print(numbers[span[0]])\n"
   ]
  },
  {
   "cell_type": "markdown",
   "metadata": {},
   "source": [
    "##### Character Ranges"
   ]
  },
  {
   "cell_type": "code",
   "execution_count": 86,
   "metadata": {},
   "outputs": [
    {
     "name": "stdout",
     "output_type": "stream",
     "text": [
      "['Go']\n"
     ]
    }
   ],
   "source": [
    "char_pattern = re.compile('[G][o]') #this looks for anything with a capital G that has a lowercase o immediatly after it\n",
    "\n",
    "#you could only get the whole word \"Going\" if you put [G][o][i][n][g] later on we will find a way around this\n",
    "\n",
    "sentence= char_pattern.findall('We are Going on Vacation!')\n",
    "print(sentence)"
   ]
  },
  {
   "cell_type": "markdown",
   "metadata": {},
   "source": [
    "### Counting Occurences"
   ]
  },
  {
   "cell_type": "markdown",
   "metadata": {},
   "source": [
    "##### {x} - something that occurs {num_of_times}"
   ]
  },
  {
   "cell_type": "code",
   "execution_count": 88,
   "metadata": {},
   "outputs": [
    {
     "name": "stdout",
     "output_type": "stream",
     "text": [
      "['er22']\n"
     ]
    }
   ],
   "source": [
    "char_pattern_count = re.compile('[a-z][a-z][0-3]{2}')#curvy brakets is the number of times the object directly before it \n",
    "                                    #occurs\n",
    "\n",
    "result=char_pattern_count.findall('Hello Mr.Ander22son')\n",
    "\n",
    "print(result)"
   ]
  },
  {
   "cell_type": "markdown",
   "metadata": {},
   "source": [
    "##### {x, x} - something that occurs between x and x times"
   ]
  },
  {
   "cell_type": "code",
   "execution_count": 90,
   "metadata": {},
   "outputs": [
    {
     "name": "stdout",
     "output_type": "stream",
     "text": [
      "['t', 'tttt', 't', 'tttt', 't', 'ttttttt', 'ttttttt', 'tt', 't', 't', 't']\n"
     ]
    }
   ],
   "source": [
    "letter_pattern= re.compile('t{1,7}')\n",
    "result = letter_pattern.findall('this is an example of a tttt sentence tttt. the regex is going tttttttttttttttt to find all of the t\"s.')\n",
    "print(result)"
   ]
  },
  {
   "cell_type": "markdown",
   "metadata": {},
   "source": [
    "##### ? - something that occurs 0 or 1 time"
   ]
  },
  {
   "cell_type": "code",
   "execution_count": 94,
   "metadata": {},
   "outputs": [
    {
     "name": "stdout",
     "output_type": "stream",
     "text": [
      "['dogg', 'dog']\n"
     ]
    }
   ],
   "source": [
    "pattern = re.compile('dogg?')\n",
    "result = pattern.findall('today i saw a nice doggy dog')\n",
    "print(result)"
   ]
  },
  {
   "cell_type": "markdown",
   "metadata": {},
   "source": [
    "##### * - something that occurs at least 0 times"
   ]
  },
  {
   "cell_type": "code",
   "execution_count": 96,
   "metadata": {},
   "outputs": [
    {
     "name": "stdout",
     "output_type": "stream",
     "text": [
      "['Ms', 's', 's']\n"
     ]
    }
   ],
   "source": [
    "pattern_m = re.compile('M*s')\n",
    "found_m = pattern_m.findall('M&Ms are my favorite candies in the market store')\n",
    "print(found_m)"
   ]
  },
  {
   "cell_type": "markdown",
   "metadata": {},
   "source": [
    "##### + - something that occurs at least once"
   ]
  },
  {
   "cell_type": "code",
   "execution_count": 99,
   "metadata": {},
   "outputs": [
    {
     "name": "stdout",
     "output_type": "stream",
     "text": [
      "['Ty', 'Ty']\n"
     ]
    }
   ],
   "source": [
    "pattern=re.compile('T+y')\n",
    "result = pattern.findall('ty\"s Tyty is tys buddy ty and his name is Ty' )\n",
    "print(result)"
   ]
  },
  {
   "cell_type": "markdown",
   "metadata": {},
   "source": [
    "##### In-class exercise 1: \n",
    "\n",
    "Use a regular expression to find every number in the given string"
   ]
  },
  {
   "cell_type": "code",
   "execution_count": 166,
   "metadata": {},
   "outputs": [
    {
     "name": "stdout",
     "output_type": "stream",
     "text": [
      "['8', '8', '8']\n",
      "['10909090', '1', '2']\n"
     ]
    }
   ],
   "source": [
    "import re\n",
    "numbers=re.compile('8')\n",
    "sequence= numbers.findall('35821321899231315691354683')\n",
    "print(sequence)\n",
    "\n",
    "import re\n",
    "\n",
    "s = \"This string has 10909090 numbers, but it is only 1 string. I hope you solve this 2day.\"\n",
    "numbers = re.findall(r'[0-9]+', s)\n",
    "print(numbers)\n",
    "\n",
    "\n"
   ]
  },
  {
   "cell_type": "markdown",
   "metadata": {},
   "source": [
    "### Escaping Characters"
   ]
  },
  {
   "cell_type": "markdown",
   "metadata": {},
   "source": [
    "##### \\w - look for any Unicode character<br/>\\W - look for anything that isnt a Unicode character\n",
    "\n",
    "[History on Unicode](http://unicode.org/standard/WhatIsUnicode.html)\n",
    "\n",
    "[More on Unicode Characters](https://en.wikipedia.org/wiki/List_of_Unicode_characters)"
   ]
  },
  {
   "cell_type": "code",
   "execution_count": 167,
   "metadata": {},
   "outputs": [
    {
     "name": "stdout",
     "output_type": "stream",
     "text": [
      "['This', 'is', 'a', 'sentence', 'with', 'words', 'numbers', 'symbols']\n",
      "[' ', ' ', ' ', ' ', ' ', '/', ' & ', '!']\n"
     ]
    }
   ],
   "source": [
    "pattern_1 = re.compile('[\\w]+')#the plus sign means if it occurs more than once.\n",
    "pattern_2 = re.compile('[\\W]+')\n",
    "\n",
    "phrase_1=pattern_1.findall('This is a sentence with words/numbers & symbols!')\n",
    "phrase_2=pattern_2.findall('This is a sentence with words/numbers & symbols!')\n",
    "print(phrase_1)\n",
    "print(phrase_2)\n",
    "\n",
    "# \\w brings back all numbers and letters\n",
    "# \\W brings back all spaces, symbols, and emojis"
   ]
  },
  {
   "cell_type": "markdown",
   "metadata": {},
   "source": [
    "##### \\d - look for any digit 0-9<br/>\\D - look for anything that isnt a digit"
   ]
  },
  {
   "cell_type": "code",
   "execution_count": 175,
   "metadata": {},
   "outputs": [
    {
     "name": "stdout",
     "output_type": "stream",
     "text": [
      "['Today', ' is', ' october', 'th', ' of', ' nad', ' in', ' days', ' it', ' will', ' be', ' the', 'th', ' it', ' will', ' be', ' another', ' time', ' in', ' days']\n",
      "\n",
      "\n",
      "['5th', '11th']\n"
     ]
    }
   ],
   "source": [
    "pattern_nums=re.compile('\\d{1,2}[a-z]{2}')#either 1 or 2 numbers... and a lowercase letter x2\n",
    "\n",
    "found_date=pattern_nums.findall('Today is october 5th of 2023 nad in 6 days it will be the 11th. it will be another time in 500 days')\n",
    "\n",
    "pattern_num2=re.compile('\\D[a-z]+')\n",
    "\n",
    "test = pattern_num2.findall('Today is october 5th of 2023 nad in 6 days it will be the 11th. it will be another time in 500 days')\n",
    "\n",
    "print(test)#this brings back all lowercase letters, no capitals or numbers\n",
    "print('\\n')\n",
    "print(found_date)  #it pulled back {2} numbers that are proceeded by {2} letters"
   ]
  },
  {
   "cell_type": "markdown",
   "metadata": {},
   "source": [
    "##### \\s - look for any white space<br/>\\S - look for anything that isnt whitespace"
   ]
  },
  {
   "cell_type": "code",
   "execution_count": 178,
   "metadata": {},
   "outputs": [
    {
     "name": "stdout",
     "output_type": "stream",
     "text": [
      "['My ', 'dog ', 'is ', 'the ', 'best ', 'dog ', 'that ', 'own!']\n",
      "[' ', ' ', ' ', ' ', ' ', ' ', ' ', ' ']\n"
     ]
    }
   ],
   "source": [
    "pattern_nospaces=re.compile('\\S[a-z]+[\\W]*') #looks for anything that is not white space\n",
    "                                            #you can stack other escaping charachters like the [\\W]\n",
    "\n",
    "pattern_no_spaces = re.compile('\\s+') # only returns white spaces\n",
    "\n",
    "phrase=pattern_nospaces.findall('My dog is the best dog that I own!')\n",
    "\n",
    "print(phrase)\n",
    "\n",
    "phrase1=pattern_no_spaces.findall('My dog is the best dog that I own!')\n",
    "\n",
    "print(phrase1)"
   ]
  },
  {
   "cell_type": "markdown",
   "metadata": {},
   "source": [
    "##### \\b - look for boundaries or edges of a word<br/>\\B - look for anything that isnt a boundary"
   ]
  },
  {
   "cell_type": "code",
   "execution_count": 185,
   "metadata": {},
   "outputs": [
    {
     "name": "stdout",
     "output_type": "stream",
     "text": [
      "['TheCodingTemple']\n",
      "[]\n"
     ]
    }
   ],
   "source": [
    "pattern_bound= re.compile (r'\\bTheCodingTemple\\b')\n",
    "\n",
    "pattern_bound_none = re.compile(r'\\BTheCodingTemple\\B')\n",
    "                           \n",
    "found_bound = pattern_bound.findall(\"TheCodingTemple\")\n",
    "print(found_bound)\n",
    "\n",
    "no_bound_found = pattern_bound_none.findall('TheCodingTemple')\n",
    "print(no_bound_found)                         "
   ]
  },
  {
   "cell_type": "markdown",
   "metadata": {},
   "source": [
    "### Grouping"
   ]
  },
  {
   "cell_type": "code",
   "execution_count": 206,
   "metadata": {
    "scrolled": false
   },
   "outputs": [
    {
     "name": "stdout",
     "output_type": "stream",
     "text": [
      "[('Gordon', 'Carnemolla'), ('Jessica', 'Brown'), ('Morrie', 'Christansen'), ('Luke', 'Agular'), ('Anna', 'Boser'), ('Hayley', 'Sullivan'), ('James', 'McDougly')]\n",
      "('Gordon', 'Carnemolla')\n",
      "('Jessica', 'Brown')\n",
      "('Morrie', 'Christansen')\n",
      "('Luke', 'Agular')\n",
      "not a name\n",
      "('Anna', 'Boser')\n",
      "('Hayley', 'Sullivan')\n",
      "('James', 'McDougly')\n"
     ]
    }
   ],
   "source": [
    "my_string='Gordon Carnemolla, Jessica Brown, Morrie Christansen, Luke Agular, hugger monsater, Anna Boser, Hayley Sullivan, James McDougly'\n",
    "#group of na,mes RegEx compiler\n",
    "pattern_1 = re.compile('([A-Z][a-zA-Za-z]+) ([A-Z][A-Za-z]+)')\n",
    "\n",
    "found_name = pattern_1.findall(my_string)\n",
    "print(found_name)\n",
    "\n",
    "for name in my_string.split(','):#this slips the string up at the comas\n",
    "    match=pattern_1.search(name)\n",
    "    if match:\n",
    "        print(match.groups(2))\n",
    "    else:\n",
    "        print('not a name')"
   ]
  },
  {
   "cell_type": "markdown",
   "metadata": {},
   "source": [
    "##### In-class Exercise 2:\n",
    "\n",
    "Write a function using regular expressions to find the domain name in the given email addresses (and return None for the invalid email addresses)<br><b>HINT: Use '|' for either or</b>"
   ]
  },
  {
   "cell_type": "code",
   "execution_count": 3,
   "metadata": {},
   "outputs": [
    {
     "name": "stdout",
     "output_type": "stream",
     "text": [
      "not a valid email.\n",
      "pocohontas1776@gmail.com\n",
      "not a valid email.\n",
      "yourfavoriteband@g6.org\n",
      "not a valid email.\n"
     ]
    }
   ],
   "source": [
    "import re\n",
    "my_emails = [\"jordanw@codingtemple.orgcom\",\"pocohontas1776@gmail.com\", \"helloworld@aol..com\",\"yourfavoriteband@g6.org\", \"@codingtemple.com\"]\n",
    "\n",
    "\n",
    "\n",
    "good_email=re.compile(\"^[a-zA-Z0-9]+@[a-zA-Z0-9]+\\.(com|org)$\")\n",
    "for email in my_emails:\n",
    "    match = good_email.search(email)\n",
    "    if match:\n",
    "        print(email)\n",
    "    else:\n",
    "        print('not a valid email.')\n",
    "\n",
    "# You can also use the $ at the end of your compile expression -- this stops the search\n",
    "\n",
    "#.com OR .org => com|org\n",
    "\n",
    "#Expected output:\n",
    "#None\n",
    "#pocohontas1776@gmail.com\n",
    "#None\n",
    "#yourfavoriteband@g6.org\n",
    "#None\n",
    "\n",
    "\n"
   ]
  },
  {
   "cell_type": "markdown",
   "metadata": {},
   "source": [
    "### Opening a File <br>\n",
    "<p>Python gives us a couple ways to import files, below are the two used most often.</p>"
   ]
  },
  {
   "cell_type": "markdown",
   "metadata": {},
   "source": [
    "##### open()"
   ]
  },
  {
   "cell_type": "code",
   "execution_count": 6,
   "metadata": {},
   "outputs": [
    {
     "name": "stdout",
     "output_type": "stream",
     "text": [
      "Hawkins, Derek\tderek@codingtemple.com\t(555) 555-5555\tTeacher, Coding Temple\t@derekhawkins\n",
      "Zhai, Mo\tmozhai@codingtemple.com\t(555) 555-5554\tTeacher, Coding Temple\n",
      "Johnson, Joe\tjoejohnson@codingtemple.com\t\tJohson, Joe\n",
      "Osterberg, Sven-Erik\tgovernor@norrbotten.co.se\t\tGovernor, Norrbotten\t@sverik\n",
      ", Tim\ttim@killerrabbit.com\t\tEnchanter, Killer Rabbit Cave\n",
      "Butz, Ryan\tryanb@codingtemple.com\t(555) 555-5543\tCEO, Coding Temple\t@ryanbutz\n",
      "Doctor, The\tdoctor+companion@tardis.co.uk\t\tTime Lord, Gallifrey\n",
      "Exampleson, Example\tme@example.com\t555-555-5552\tExample, Example Co.\t@example\n",
      "Pael, Ripal\tripalp@codingtemple.com\t(555) 555-5553\tTeacher, Coding Temple\t@ripalp\n",
      "Vader, Darth\tdarth-vader@empire.gov\t(555) 555-4444\tSith Lord, Galactic Empire\t@darthvader\n",
      "Fernandez de la Vega Sanz, Maria Teresa\tmtfvs@spain.gov\t\tFirst Deputy Prime Minister, Spanish Gov\n",
      "\n"
     ]
    }
   ],
   "source": [
    "f= open('names.txt')\n",
    "data=f.read()\n",
    "print(data)\n",
    "\n",
    "f.close() #we have to do this so the next cell can run"
   ]
  },
  {
   "cell_type": "markdown",
   "metadata": {},
   "source": [
    "##### with open()"
   ]
  },
  {
   "cell_type": "code",
   "execution_count": 4,
   "metadata": {},
   "outputs": [
    {
     "name": "stdout",
     "output_type": "stream",
     "text": [
      "Hawkins, Derek\tderek@codingtemple.com\t(555) 555-5555\tTeacher, Coding Temple\t@derekhawkins\n",
      "Zhai, Mo\tmozhai@codingtemple.com\t(555) 555-5554\tTeacher, Coding Temple\n",
      "Johnson, Joe\tjoejohnson@codingtemple.com\t\tJohson, Joe\n",
      "Osterberg, Sven-Erik\tgovernor@norrbotten.co.se\t\tGovernor, Norrbotten\t@sverik\n",
      ", Tim\ttim@killerrabbit.com\t\tEnchanter, Killer Rabbit Cave\n",
      "Butz, Ryan\tryanb@codingtemple.com\t(555) 555-5543\tCEO, Coding Temple\t@ryanbutz\n",
      "Doctor, The\tdoctor+companion@tardis.co.uk\t\tTime Lord, Gallifrey\n",
      "Exampleson, Example\tme@example.com\t555-555-5552\tExample, Example Co.\t@example\n",
      "Pael, Ripal\tripalp@codingtemple.com\t(555) 555-5553\tTeacher, Coding Temple\t@ripalp\n",
      "Vader, Darth\tdarth-vader@empire.gov\t(555) 555-4444\tSith Lord, Galactic Empire\t@darthvader\n",
      "Fernandez de la Vega Sanz, Maria Teresa\tmtfvs@spain.gov\t\tFirst Deputy Prime Minister, Spanish Gov\n",
      "\n"
     ]
    }
   ],
   "source": [
    "with open('names.txt') as f:\n",
    "    data =f.read()\n",
    "    print(data)"
   ]
  },
  {
   "cell_type": "markdown",
   "metadata": {},
   "source": [
    "##### re.match()"
   ]
  },
  {
   "cell_type": "code",
   "execution_count": 247,
   "metadata": {},
   "outputs": [
    {
     "name": "stdout",
     "output_type": "stream",
     "text": [
      "<re.Match object; span=(0, 14), match='Hawkins, Derek'>\n"
     ]
    }
   ],
   "source": [
    "print(re.match(r\"Hawkins, Derek\",data)) #match what i typed in position one with anything in data (in position 2)"
   ]
  },
  {
   "cell_type": "markdown",
   "metadata": {},
   "source": [
    "##### re.search()"
   ]
  },
  {
   "cell_type": "code",
   "execution_count": 248,
   "metadata": {},
   "outputs": [
    {
     "name": "stdout",
     "output_type": "stream",
     "text": [
      "<re.Match object; span=(99, 122), match='mozhai@codingtemple.com'>\n"
     ]
    }
   ],
   "source": [
    "print(re.search(r\"mozhai@codingtemple.com\",data))"
   ]
  },
  {
   "cell_type": "markdown",
   "metadata": {},
   "source": [
    "##### Store the String to a Variable"
   ]
  },
  {
   "cell_type": "code",
   "execution_count": 256,
   "metadata": {},
   "outputs": [
    {
     "name": "stdout",
     "output_type": "stream",
     "text": [
      "what would you like to search for?Ryan Butz\n",
      "i did not find that.\n"
     ]
    }
   ],
   "source": [
    "answer=input(\"what would you like to search for?\")\n",
    "\n",
    "found=re.findall(answer,data)\n",
    "if found:\n",
    "    print(f\"I found your data {found}\")\n",
    "else:\n",
    "    print(\"i did not find that.\")"
   ]
  },
  {
   "cell_type": "markdown",
   "metadata": {},
   "source": [
    "### In-Class Exercise #3 <br>\n",
    "<p>Print each persons name and twitter handle, using groups, should look like:</p>\n",
    "<p>==============<br>\n",
    "   Full Name / Twitter<br>\n",
    "   ==============</p>\n",
    "Derek Hawkins / @derekhawkins\n",
    "\n",
    " Erik Sven-Osterberg / @sverik\n",
    "\n",
    " Ryan Butz / @ryanbutz\n",
    "\n",
    " Example Exampleson / @example\n",
    "\n",
    " Ripal Pael / @ripalp\n",
    "\n",
    " Darth Vader / @darthvader"
   ]
  },
  {
   "cell_type": "code",
   "execution_count": 26,
   "metadata": {
    "scrolled": true
   },
   "outputs": [
    {
     "name": "stdout",
     "output_type": "stream",
     "text": [
      "\n",
      "\n",
      "[]\n"
     ]
    }
   ],
   "source": [
    "# somehow gather the names and ave them to a dictionary, somehow flip the k and v so its in the right order\n",
    "\n",
    "# gather the twitther handles\n",
    "\n",
    "# make a formated statement to take the names and handles\n",
    "\n",
    "# make a loop to print them out\n",
    "\n",
    "# import re\n",
    "# name_dict={}\n",
    "\n",
    "# pattern = re.compile(r'^([A-Za-z\\-]+),\\s*([A-Za-z\\-]+)$')\n",
    "# # name=pattern.findall(data)\n",
    "# for name in data:\n",
    "#     match = pattern.search(data)\n",
    "#     print(match)\n",
    "\n",
    "print(name)\n",
    "    # names=pattern.findall(data)\n",
    "# print(names)\n",
    "\n",
    "pattern= re.compile('^([\\w\\s,-]+)\\t[\\w\\-+.@]+\\t(?:\\(\\d{3}\\) \\d{3}-\\d{4}\\t)?[^@]*(@[\\w-]+)?$')\n",
    "\n",
    "info = re.findall(pattern, data,)\n",
    "\n",
    "list=[]\n",
    "for name, handle in info:\n",
    "    if handle:\n",
    "        list.append(f'{name}/{handle}')\n",
    "print(list)"
   ]
  },
  {
   "cell_type": "markdown",
   "metadata": {},
   "source": [
    "### Regex project\n",
    "\n",
    "Use python to read the file regex_test.txt and print the last name on each line using regular expressions and groups (return None for names with no first and last name, or names that aren't properly capitalized)\n",
    "##### Hint: use with open() and readlines()"
   ]
  },
  {
   "cell_type": "code",
   "execution_count": 16,
   "metadata": {},
   "outputs": [
    {
     "name": "stdout",
     "output_type": "stream",
     "text": [
      "Abraham Lincoln\n",
      "Andrew P Garfield\n",
      "Connor Milliken\n",
      "Jordan Alexander Williams\n",
      "Madonna\n",
      "programming is cool\n",
      "\n",
      "Lincoln\n",
      "Garfield\n",
      "Milliken\n",
      "Williams\n",
      "none\n"
     ]
    }
   ],
   "source": [
    "\"\"\"\n",
    "Expected Output\n",
    "Abraham Lincoln\n",
    "Andrew P Garfield\n",
    "Connor Milliken\n",
    "Jordan Alexander Williams\n",
    "None\n",
    "None\n",
    "\"\"\"\n",
    "import re\n",
    "D = open('regex_test.txt')\n",
    "new_data=D.read()\n",
    "print(new_data)\n",
    "\n",
    "\n",
    "pattern = re.compile(r\"^([A-Z][a-z]+)(?: ([A-Z][a-z]*))?(?: ([A-Z][a-z]+))?$\")\n",
    "\n",
    "lines = new_data.split('\\n')\n",
    "\n",
    "for name in lines:\n",
    "    match=pattern.match(name)\n",
    "    if match:\n",
    "        if match.group(3):\n",
    "            print(match.group(3))\n",
    "        elif match.group(2):\n",
    "            print(match.group(2))\n",
    "        else:\n",
    "            print(\"none\")"
   ]
  },
  {
   "cell_type": "code",
   "execution_count": null,
   "metadata": {},
   "outputs": [],
   "source": []
  }
 ],
 "metadata": {
  "kernelspec": {
   "display_name": "Python 3 (ipykernel)",
   "language": "python",
   "name": "python3"
  },
  "language_info": {
   "codemirror_mode": {
    "name": "ipython",
    "version": 3
   },
   "file_extension": ".py",
   "mimetype": "text/x-python",
   "name": "python",
   "nbconvert_exporter": "python",
   "pygments_lexer": "ipython3",
   "version": "3.11.3"
  }
 },
 "nbformat": 4,
 "nbformat_minor": 2
}
